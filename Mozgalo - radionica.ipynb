{
 "cells": [
  {
   "cell_type": "markdown",
   "metadata": {
    "deletable": true,
    "editable": true
   },
   "source": [
    "# Obrada slike"
   ]
  },
  {
   "cell_type": "markdown",
   "metadata": {
    "deletable": true,
    "editable": true,
    "slideshow": {
     "slide_type": "fragment"
    }
   },
   "source": [
    "\n",
    "## Potrebne knjižnice"
   ]
  },
  {
   "cell_type": "code",
   "execution_count": 1,
   "metadata": {
    "collapsed": false,
    "deletable": true,
    "editable": true
   },
   "outputs": [],
   "source": [
    "import javax.imageio.ImageIO\n",
    "import java.io.File\n",
    "import java.io._\n",
    "import java.nio.file.{Files,Paths}\n",
    "\n",
    "import org.opencv.core._\n",
    "import org.opencv.highgui.Highgui;\n",
    "import org.opencv.imgproc.Imgproc;\n",
    "\n",
    "import com.sksamuel.scrimage._\n",
    "import com.sksamuel.scrimage.nio._\n",
    "\n",
    "import org.apache.spark.mllib.linalg.Vectors\n",
    "import org.apache.spark.mllib.clustering.{KMeans, KMeansModel}\n",
    "\n",
    "\n",
    "\n",
    "nu.pattern.OpenCV.loadShared()\n"
   ]
  },
  {
   "cell_type": "markdown",
   "metadata": {
    "deletable": true,
    "editable": true
   },
   "source": [
    "Otvaranje slike sa scrimage i skaliranje na određenu dimenziju"
   ]
  },
  {
   "cell_type": "code",
   "execution_count": 2,
   "metadata": {
    "collapsed": false,
    "deletable": true,
    "editable": true
   },
   "outputs": [
    {
     "data": {
      "text/plain": [
       "scaled.jpeg"
      ]
     },
     "execution_count": 2,
     "metadata": {},
     "output_type": "execute_result"
    }
   ],
   "source": [
    "val inputStream = new FileInputStream(\"0001.jpg\")\n",
    "val image = Image.fromStream(inputStream).scaleTo(300, 150)\n",
    "image.output(new File(\"scaled.jpeg\"))"
   ]
  },
  {
   "cell_type": "markdown",
   "metadata": {
    "deletable": true,
    "editable": true
   },
   "source": [
    "![title](0001.jpg)"
   ]
  },
  {
   "cell_type": "markdown",
   "metadata": {
    "deletable": true,
    "editable": true
   },
   "source": [
    "![title](scaled.jpeg)"
   ]
  },
  {
   "cell_type": "markdown",
   "metadata": {
    "deletable": true,
    "editable": true
   },
   "source": [
    "## Uklanjanje prozirnosti\n"
   ]
  },
  {
   "cell_type": "code",
   "execution_count": 3,
   "metadata": {
    "collapsed": false,
    "deletable": true,
    "editable": true
   },
   "outputs": [
    {
     "data": {
      "text/plain": [
       "opaque.jpeg"
      ]
     },
     "execution_count": 3,
     "metadata": {},
     "output_type": "execute_result"
    }
   ],
   "source": [
    "val opaque = image.map((x,y,pixel) => new Pixel((pixel.argb & 0x00ffffff) + (0xff<<24)))\n",
    "image.output(new File(\"opaque.jpeg\"))"
   ]
  },
  {
   "cell_type": "markdown",
   "metadata": {
    "deletable": true,
    "editable": true
   },
   "source": [
    "## Jednostavna segmentacija slike"
   ]
  },
  {
   "cell_type": "code",
   "execution_count": 3,
   "metadata": {
    "collapsed": false,
    "deletable": true,
    "editable": true
   },
   "outputs": [
    {
     "data": {
      "text/plain": [
       "segmentation.jpeg"
      ]
     },
     "execution_count": 3,
     "metadata": {},
     "output_type": "execute_result"
    }
   ],
   "source": [
    "val inputStream = new FileInputStream(\"jump.jpg\")\n",
    "val image = Image.fromStream(inputStream)\n",
    "\n",
    "val segmentation = image.map{ (x,y,pixel) => \n",
    "        \n",
    "        if(pixel.blue > 65) new Pixel(0xff000000) else  new Pixel(0xffffffff)\n",
    "    }\n",
    "segmentation.output(new File(\"segmentation.jpeg\"))"
   ]
  },
  {
   "cell_type": "markdown",
   "metadata": {
    "deletable": true,
    "editable": true
   },
   "source": [
    "![title](jump.jpg)"
   ]
  },
  {
   "cell_type": "markdown",
   "metadata": {
    "deletable": true,
    "editable": true
   },
   "source": [
    "![title](segmentation.jpeg)"
   ]
  },
  {
   "cell_type": "markdown",
   "metadata": {
    "deletable": true,
    "editable": true
   },
   "source": [
    "## Slika u crno-bijelom formatu"
   ]
  },
  {
   "cell_type": "code",
   "execution_count": 5,
   "metadata": {
    "collapsed": false,
    "deletable": true,
    "editable": true
   },
   "outputs": [
    {
     "data": {
      "text/plain": [
       "true"
      ]
     },
     "execution_count": 5,
     "metadata": {},
     "output_type": "execute_result"
    }
   ],
   "source": [
    "val image = Highgui.imread(\"0001.jpg\",  0);\n",
    "\n",
    "Highgui.imwrite(\"blackAndWhite.jpeg\", image);\n"
   ]
  },
  {
   "cell_type": "markdown",
   "metadata": {
    "deletable": true,
    "editable": true
   },
   "source": [
    "![title](blackAndWhite.jpeg)"
   ]
  },
  {
   "cell_type": "markdown",
   "metadata": {
    "deletable": true,
    "editable": true
   },
   "source": [
    "## Edge detection"
   ]
  },
  {
   "cell_type": "code",
   "execution_count": 6,
   "metadata": {
    "collapsed": false,
    "deletable": true,
    "editable": true,
    "scrolled": true
   },
   "outputs": [
    {
     "data": {
      "text/plain": [
       "true"
      ]
     },
     "execution_count": 6,
     "metadata": {},
     "output_type": "execute_result"
    }
   ],
   "source": [
    "val image =  Highgui.imread(\"street.jpeg\",  Highgui.CV_LOAD_IMAGE_COLOR);\n",
    "val dest = new Mat()\n",
    "\n",
    "Imgproc.Canny(image, dest, 20, 100, 3, true);\n",
    "Highgui.imwrite(\"edge.jpeg\", dest);"
   ]
  },
  {
   "cell_type": "markdown",
   "metadata": {
    "deletable": true,
    "editable": true
   },
   "source": [
    "![title](street.jpeg)"
   ]
  },
  {
   "cell_type": "markdown",
   "metadata": {
    "deletable": true,
    "editable": true
   },
   "source": [
    "![title](edge.jpeg)\n"
   ]
  },
  {
   "cell_type": "markdown",
   "metadata": {
    "deletable": true,
    "editable": true
   },
   "source": [
    "## Morfološka obrada slike"
   ]
  },
  {
   "cell_type": "code",
   "execution_count": 2,
   "metadata": {
    "collapsed": false,
    "deletable": true,
    "editable": true
   },
   "outputs": [
    {
     "data": {
      "text/plain": [
       "true"
      ]
     },
     "execution_count": 2,
     "metadata": {},
     "output_type": "execute_result"
    }
   ],
   "source": [
    "val image = Highgui.imread(\"edge.jpeg\",  Highgui.CV_LOAD_IMAGE_COLOR);\n",
    "\n",
    "val destination = new Mat()\n",
    "\n",
    "val element = Imgproc.getStructuringElement(Imgproc.MORPH_RECT, new  Size(2, 2));\n",
    "Imgproc.dilate(image, destination, element);\n",
    "Highgui.imwrite(\"erode.jpeg\", destination);"
   ]
  },
  {
   "cell_type": "markdown",
   "metadata": {
    "deletable": true,
    "editable": true
   },
   "source": [
    "![title](erode.jpeg)\n"
   ]
  },
  {
   "cell_type": "code",
   "execution_count": 8,
   "metadata": {
    "collapsed": false,
    "deletable": true,
    "editable": true
   },
   "outputs": [
    {
     "name": "stdout",
     "output_type": "stream",
     "text": [
      "Mat [ 478*506*CV_8UC3, isCont=true, isSubmat=false, nativeObj=0x7f9a242d2f70, dataAddr=0x7f9a2451aa30 ]\n"
     ]
    }
   ],
   "source": [
    "val hsvImage = new Mat()\n",
    "Imgproc.cvtColor(image, hsvImage, Imgproc.COLOR_BGR2HSV);\n",
    "println(hsvImage)"
   ]
  },
  {
   "cell_type": "markdown",
   "metadata": {
    "deletable": true,
    "editable": true
   },
   "source": [
    "## Učitavanje svih slika u byte array"
   ]
  },
  {
   "cell_type": "code",
   "execution_count": 9,
   "metadata": {
    "collapsed": false,
    "deletable": true,
    "editable": true
   },
   "outputs": [],
   "source": [
    "val imageArray =  new java.io.File(\"/home/teo/dataset/\").listFiles.\n",
    "    map{ file => \n",
    "        \n",
    "        try { \n",
    "            Files.readAllBytes(Paths.get(file.toString))\n",
    "        }\n",
    "        catch {\n",
    "              case e : Exception => Array() : Array[Byte]\n",
    "        }\n",
    "    }"
   ]
  },
  {
   "cell_type": "code",
   "execution_count": 10,
   "metadata": {
    "collapsed": false,
    "deletable": true,
    "editable": true
   },
   "outputs": [
    {
     "name": "stdout",
     "output_type": "stream",
     "text": [
      "Pixel(-3949118)\n",
      "Pixel(-6911085)\n",
      "Pixel(-6778986)\n",
      "Pixel(-6712679)\n",
      "Pixel(-6580582)\n",
      "Pixel(-6514787)\n",
      "Pixel(-6580067)\n",
      "Pixel(-6514017)\n",
      "Pixel(-6316895)\n",
      "Pixel(-3158319)\n",
      "Pixel(-4343878)\n",
      "Pixel(-9410195)\n",
      "Pixel(-10658465)\n",
      "Pixel(-7764854)\n",
      "Pixel(-6975342)\n",
      "Pixel(-6975341)\n",
      "Pixel(-7172205)\n",
      "Pixel(-7237484)\n",
      "Pixel(-7303275)\n",
      "Pixel(-3684663)\n",
      "Pixel(-7106159)\n",
      "Pixel(-11054766)\n",
      "Pixel(-12566208)\n",
      "Pixel(-13156542)\n",
      "Pixel(-6581101)\n",
      "Pixel(-5857379)\n",
      "Pixel(-6580588)\n",
      "Pixel(-6843243)\n",
      "Pixel(-7960951)\n",
      "Pixel(-4144958)\n",
      "Pixel(-7435913)\n",
      "Pixel(-12305375)\n",
      "Pixel(-11056076)\n",
      "Pixel(-11778771)\n",
      "Pixel(-12172501)\n",
      "Pixel(-12105932)\n",
      "Pixel(-11382719)\n",
      "Pixel(-10002606)\n",
      "Pixel(-10462379)\n",
      "Pixel(-5395543)\n",
      "Pixel(-7436180)\n",
      "Pixel(-12700926)\n",
      "Pixel(-12174324)\n",
      "Pixel(-11845358)\n",
      "Pixel(-12173551)\n",
      "Pixel(-12370417)\n",
      "Pixel(-12173294)\n",
      "Pixel(-11647461)\n",
      "Pixel(-11450849)\n",
      "Pixel(-5528431)\n"
     ]
    }
   ],
   "source": [
    "val in = new FileInputStream(\"/home/teo/dataset/0001.jpg\")\n",
    "val image = Image.fromStream(in).scaleTo(10, 5).pixels.foreach(println)\n"
   ]
  },
  {
   "cell_type": "code",
   "execution_count": 12,
   "metadata": {
    "collapsed": false,
    "deletable": true,
    "editable": true
   },
   "outputs": [],
   "source": [
    "val imageRdd = sc.parallelize(imageArray)\n",
    "\n",
    "val pixelsRdd = imageRdd.map{ x => \n",
    "    try{\n",
    "            ImageReader.fromBytes(x).scaleTo(5,5).pixels.map(x => x.argb.toDouble)}\n",
    "    catch{\n",
    "            case e : Exception => Array() : Array[Double]\n",
    "    }\n",
    "}"
   ]
  },
  {
   "cell_type": "code",
   "execution_count": 14,
   "metadata": {
    "collapsed": false,
    "deletable": true,
    "editable": true
   },
   "outputs": [
    {
     "name": "stdout",
     "output_type": "stream",
     "text": [
      "MapPartitionsRDD[1] at map at <console>:43\n"
     ]
    }
   ],
   "source": [
    "println(pixelsRdd)"
   ]
  },
  {
   "cell_type": "code",
   "execution_count": 15,
   "metadata": {
    "collapsed": false,
    "deletable": true,
    "editable": true
   },
   "outputs": [
    {
     "name": "stdout",
     "output_type": "stream",
     "text": [
      "Prvi element\n",
      "[-5265747.0,-6910315.0,-6580581.0,-6645860.0,-4606021.0,-6844012.0,-9343374.0,-6909548.0,-7369327.0,-5329487.0,-9079950.0,-1.2631228E7,-6712173.0,-6777965.0,-5855575.0,-9607344.0,-1.1713493E7,-1.2172241E7,-1.0988474E7,-7632765.0,-9805509.0,-1.230591E7,-1.2239088E7,-1.217355E7,-8226211.0]\n"
     ]
    }
   ],
   "source": [
    "println(\"Prvi element\")\n",
    "\n",
    "val vectorsRdd = pixelsRdd.map(x => Vectors.dense(x))\n",
    "\n",
    "println(vectorsRdd.first)"
   ]
  }
 ],
 "metadata": {
  "kernelspec": {
   "display_name": "Apache Toree - Scala",
   "language": "scala",
   "name": "apache_toree_scala"
  },
  "language_info": {
   "file_extension": ".scala",
   "name": "scala",
   "version": "2.11.8"
  }
 },
 "nbformat": 4,
 "nbformat_minor": 2
}
